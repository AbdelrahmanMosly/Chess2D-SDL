{
  "nbformat": 4,
  "nbformat_minor": 0,
  "metadata": {
    "colab": {
      "provenance": [],
      "authorship_tag": "ABX9TyNJedOGnwbWsD9xyjOetx3W",
      "include_colab_link": true
    },
    "kernelspec": {
      "name": "python3",
      "display_name": "Python 3"
    },
    "language_info": {
      "name": "python"
    }
  },
  "cells": [
    {
      "cell_type": "markdown",
      "metadata": {
        "id": "view-in-github",
        "colab_type": "text"
      },
      "source": [
        "<a href=\"https://colab.research.google.com/github/AbdelrahmanMosly/Chess2D-SDL/blob/main/PR02.ipynb\" target=\"_parent\"><img src=\"https://colab.research.google.com/assets/colab-badge.svg\" alt=\"Open In Colab\"/></a>"
      ]
    },
    {
      "cell_type": "markdown",
      "source": [
        "|               Name               |            ID          |\n",
        "|           -------------          |      -------------     |\n",
        "|         Abdelrahamn Bahaa         |         19015882       |\n",
        "|         Louai Zahran             |         19016198       |\n",
        "|         Mohamed Magdy            |         19016479       |"
      ],
      "metadata": {
        "id": "n4bQp2PzMHgs"
      }
    },
    {
      "cell_type": "code",
      "source": [
        "import numpy as np\n",
        "X=np.array([\n",
        "    [2,4],     [3, 3],   [3, 4],       [5, 4],\n",
        "    [5, 6],    [5, 8],    [6, 4],    [6, 5],\n",
        "    [6 ,7],    [7,3],    [7, 4],    [8, 2],\n",
        "    [9, 4],    [10, 6],    [10, 7],    [10, 8],\n",
        "    [11,5],    [11, 8],    [12, 7],    [13, 6],\n",
        "    [13, 7],    [14, 6],    [15, 4],    [15, 5]\n",
        "            ])\n"
      ],
      "metadata": {
        "id": "utxo-kL2XueB"
      },
      "execution_count": 133,
      "outputs": []
    },
    {
      "cell_type": "code",
      "execution_count": 134,
      "metadata": {
        "id": "gsICp_ImMGGZ"
      },
      "outputs": [],
      "source": [
        "def rbf_kernel(X,gamma):\n",
        "    \"\"\"\n",
        "    Computes the RBF kernel matrix using the formula:\n",
        "    K(x_i, x_j) = exp(-gamma * ||x_i - x_j||^2)\n",
        "    \n",
        "    Parameters:\n",
        "    X (ndarray): the data matrix with shape (n_samples, n_features)\n",
        "    gamma (float): the gamma parameter for the RBF kernel\n",
        "    \n",
        "    Returns:\n",
        "    K (ndarray): the RBF kernel matrix with shape (n_samples, n_samples)\n",
        "    \"\"\"\n",
        "    n_samples=X.shape[0]\n",
        "    K=np.zeros((n_samples,n_samples))\n",
        "    for i in range(n_samples):\n",
        "      for j in range(n_samples):\n",
        "        diff=X[i]-X[j]\n",
        "        K[i,j]=np.exp(-gamma*np.dot(diff,diff))\n",
        "    return K\n"
      ]
    },
    {
      "cell_type": "code",
      "source": [
        "from sklearn.neighbors import NearestNeighbors\n",
        "def sim_matrix_using_KNN(X,n_neighbors=3):\n",
        "  \"\"\"\n",
        "  Computes the similarity graph using 3-NN graph, where Sim(xi,xj)=1 \n",
        "  iff xj is one of the nearest three points to xi .\n",
        "  \n",
        "  Parameters:\n",
        "  X (ndarray): the data matrix with shape (n_samples, n_features)\n",
        "  n_neighbors(int): number of neighbors to be used in sim matrix\n",
        "  Returns:\n",
        "  W (ndarray): the similarity matrix with shape (n_samples, n_samples)\n",
        "  \"\"\"\n",
        "\n",
        "  #note n_neighbors+1 as it include its point so we need to add 1 to get the desired result\n",
        "  threeNN=NearestNeighbors(n_neighbors=n_neighbors+1).fit(X)\n",
        "  distances,indices=threeNN.kneighbors(X)\n",
        "  n_samples=X.shape[0]\n",
        "  W=np.zeros((n_samples,n_samples))\n",
        "  # print(distances)\n",
        "  # print(indices)\n",
        "\n",
        "  #i is the sample \n",
        "  #j is index for the nearest neighbor for i\n",
        "  for i in range(n_samples):  \n",
        "    for j in indices[i]:\n",
        "        if j != i: #dont use one with it self\n",
        "            W[i, j] = 1\n",
        "            W[j, i] = 1\n",
        "  return W"
      ],
      "metadata": {
        "id": "sOgZG0ZZOR-z"
      },
      "execution_count": 135,
      "outputs": []
    },
    {
      "cell_type": "markdown",
      "source": [
        "1. Compute the similarity matrix W e\n",
        "2. normalized cut then B <-—  La\n",
        "3. La=D^-1 . W\n",
        "4. get B eigen vector and choose smallest eigen values correspond to this eigen vector \n",
        "5. U(n ->n-k+1)\n",
        "6. Y normalize row U\n",
        "7. cluster via k-means on Y"
      ],
      "metadata": {
        "id": "5rkcgWSGoGzX"
      }
    },
    {
      "cell_type": "code",
      "source": [
        "from sklearn.cluster import KMeans\n",
        "def k_way_normalized_cut(X, k, gamma=None):\n",
        "    \"\"\"\n",
        "    Performs k-way normalized cut clustering on a dataset using either an RBF kernel or a K-nearest neighbors graph.\n",
        "\n",
        "    Parameters:\n",
        "        X (np.ndarray): A numpy array of shape (n_samples, n_features) representing the dataset to be clustered.\n",
        "        k (int): An integer representing the number of clusters to create.\n",
        "        gamma (float, optional): A float representing the gamma parameter for the RBF kernel, or None to use a KNN graph instead. Default is None.\n",
        "\n",
        "    Returns:\n",
        "        tuple: A tuple containing the cluster assignments, reduced eigenspace matrix, trained KMeans model, and value of gamma used (if applicable). The first element is a numpy array of shape (n_samples,) containing the cluster assignments for each data point. The second element is a numpy array of shape (n_samples, k) containing the reduced eigenspace matrix. The third element is a KMeans object representing the trained KMeans model. The fourth element is a float representing the value of the gamma parameter used, or None if a KNN graph was used instead.\n",
        "    \"\"\"\n",
        "    if gamma is not None:\n",
        "        K = rbf_kernel(X, gamma)\n",
        "        W = K\n",
        "    else:\n",
        "        W = sim_matrix_using_KNN(X)\n",
        "\n",
        "    D = np.diag(np.sum(W, axis=1))\n",
        "  \n",
        "    L = D - W \n",
        "\n",
        "    La = np.dot(np.linalg.inv(D),L)\n",
        "\n",
        "    values, Y = np.linalg.eig(La)\n",
        "  \n",
        "    asc_sorted_indices = np.argsort(values)\n",
        "    values=values[asc_sorted_indices]\n",
        "\n",
        "    Y=Y[:,asc_sorted_indices]\n",
        "\n",
        "    Y = Y[:, 0:k]\n",
        "\n",
        "    Y= Y/np.linalg.norm(Y,axis=1,keepdims=1)\n",
        "\n",
        "    kmeans = KMeans(n_clusters=k,n_init=10).fit(Y)\n",
        "    labels = kmeans.labels_\n",
        "    return labels, Y ,kmeans ,gamma\n",
        "\n",
        "k_way_normalized_cut_output=k_way_normalized_cut(X,3,0.1)\n",
        "print(k_way_normalized_cut_output[0])"
      ],
      "metadata": {
        "id": "jds5ODZnPozq",
        "colab": {
          "base_uri": "https://localhost:8080/"
        },
        "outputId": "c004716c-1efb-4ffa-cb18-8c9cf50f9bcf"
      },
      "execution_count": 136,
      "outputs": [
        {
          "output_type": "stream",
          "name": "stdout",
          "text": [
            "[1 1 1 1 1 1 1 1 1 1 1 1 2 2 2 2 2 2 2 0 0 0 0 0]\n"
          ]
        }
      ]
    },
    {
      "cell_type": "code",
      "source": [
        "def rbf_kernel_point_and_dataset(X,point,gamma):\n",
        "    \"\"\"\n",
        "    Computes the radial basis function (RBF) kernel between a given data point and a dataset.\n",
        "\n",
        "    Parameters:\n",
        "        X (np.ndarray): A numpy array of shape (n_samples, n_features) representing a dataset.\n",
        "        point (np.ndarray): A numpy array of shape (n_features,) representing a single data point.\n",
        "        gamma (float): A parameter for the RBF kernel function. Higher values of gamma will result in a more complex decision function, as it inversly propotional with bandwidth\n",
        "         i.e., the model will be more likely to overfit. Lower values of gamma will result in a simpler decision function, i.e., the model will be more likely to underfit.\n",
        "\n",
        "    Returns:\n",
        "        np.ndarray: A 1D numpy array of shape (n_samples,) representing the RBF kernel between `point` and each sample in `X`.\n",
        "    \"\"\"\n",
        "    n_samples=X.shape[0]\n",
        "    K=np.zeros(n_samples)\n",
        "\n",
        "    for j in range(n_samples):\n",
        "      diff=point-X[j]\n",
        "      K[j]=np.exp(-gamma*np.dot(diff,diff))\n",
        "\n",
        "    return K\n"
      ],
      "metadata": {
        "id": "mX4-IV_OXpMZ"
      },
      "execution_count": 137,
      "outputs": []
    },
    {
      "cell_type": "code",
      "source": [
        "def sim_using_KNN_point_and_dataset(X,point,n_neighbors=3):\n",
        "  \"\"\"\n",
        "    Computes the similarity between a given data point and a dataset using K-nearest neighbors.\n",
        "\n",
        "    Parameters:\n",
        "        X (np.ndarray): A numpy array of shape (n_samples, n_features) representing a dataset.\n",
        "        point (np.ndarray): A numpy array of shape (n_features,) representing a single data point.\n",
        "        n_neighbors (int): An integer that specifies the number of nearest neighbors to consider when computing the similarity between `point` and `X`. Default is 3.\n",
        "\n",
        "    Returns:\n",
        "        np.ndarray: A 1D numpy array of shape (n_samples,) representing the similarity of Each element of the array is either 0 or 1, where 1 indicates that the corresponding sample in `X` is one of the `n_neighbors` nearest neighbors of `point`.\n",
        "  \"\"\"\n",
        "  #note n_neighbors as now the point supposedly not in the original data so we check the neighbors in the data \n",
        "  threeNN=NearestNeighbors(n_neighbors=n_neighbors).fit(X)\n",
        "  n_samples=X.shape[0]\n",
        "  W=np.zeros(n_samples)\n",
        "  point2D=np.zeros((1,point.shape[0]))\n",
        "  point2D[0]=point\n",
        "  _,indices=threeNN.kneighbors(point2D)\n",
        "  for index in indices:\n",
        "      W[index] = 1\n",
        "  return W"
      ],
      "metadata": {
        "id": "ERRhjt0zbFvg"
      },
      "execution_count": 138,
      "outputs": []
    },
    {
      "cell_type": "code",
      "source": [
        "def predict_new_point(new_point, k_way_normalized_cut_output):\n",
        "    \"\"\"\n",
        "    Given a new data point and the output of a trained k-way normalized cut model, predicts the cluster assignment of the new point.\n",
        "\n",
        "    Parameters:\n",
        "        new_point (np.ndarray): A numpy array of shape (n_features,) representing a single data point to be classified.\n",
        "\n",
        "        k_way_normalized_cut_output (tuple): A tuple containing the necessary outputs from a trained k-way normalized cut model.\n",
        "         The tuple should contain the original dataset, the reduced eigenspace matrix Y_train, the KMeans clustering model kmeans_model,\n",
        "          and the gamma parameter used to compute the RBF kernel, if applicable.\n",
        "\n",
        "    Returns:\n",
        "        int: An integer representing the predicted cluster assignment of the new point.\n",
        "    \"\"\"\n",
        "    # Unpack the necessary outputs from the trained k_way_normalized_cut function\n",
        "    Y_train = k_way_normalized_cut_output[1]\n",
        "    kmeans_model=k_way_normalized_cut_output[2]\n",
        "    gamma=k_way_normalized_cut_output[3]\n",
        "    \n",
        "    # Compute similarity between the new point and all the data points in the original dataset\n",
        "    if gamma is not None:\n",
        "      similarities = rbf_kernel_point_and_dataset(X,new_point, gamma)\n",
        "    else:\n",
        "      similarities = sim_using_KNN_point_and_dataset(X,new_point)   \n",
        "    # Normalize vector\n",
        "    similarities = similarities / np.linalg.norm(similarities)\n",
        "\n",
        "    # Project the normalized row vector onto the reduced eigenspace\n",
        "    reduced_coords = np.dot(similarities, Y_train)\n",
        "    \n",
        "    # Predict the cluster assignment for the new point based on its coordinates in the reduced eigenspace\n",
        "    label = kmeans_model.predict(reduced_coords.reshape(1, -1))[0]\n",
        "    \n",
        "    return label\n"
      ],
      "metadata": {
        "id": "BJjI-7DOWFHT"
      },
      "execution_count": 139,
      "outputs": []
    },
    {
      "cell_type": "code",
      "source": [
        "def test_prediction():\n",
        "  predicted=[]\n",
        "\n",
        "  for point in X:\n",
        "   predicted.append(predict_new_point(point,k_way_normalized_cut_output))\n",
        "\n",
        "  print(np.allclose(predicted,k_way_normalized_cut_output[0]))\n",
        "test_prediction()"
      ],
      "metadata": {
        "colab": {
          "base_uri": "https://localhost:8080/"
        },
        "id": "BaUUVl4SkWCx",
        "outputId": "e185630d-f62e-4936-aab2-4c9cacd42388"
      },
      "execution_count": 140,
      "outputs": [
        {
          "output_type": "stream",
          "name": "stdout",
          "text": [
            "True\n"
          ]
        }
      ]
    }
  ]
}